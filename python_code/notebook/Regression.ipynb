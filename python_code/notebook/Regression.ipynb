{
 "cells": [
  {
   "attachments": {
    "birth.png": {
     "image/png": "[encoded data removed]"
    }
   },
   "cell_type": "markdown",
   "id": "ce7217e6",
   "metadata": {},
   "source": [
    "# A transdimensional piecewise constant regression\n",
    "This script recreates the piecewise constant regression example presented in \"*Transdimensional inference in the geosciences*\" paper (Sambridge et al. 2013) using **transdimensional inversion with a Voronoi nuclei parameterization**.\n",
    "\n",
    "Through a **random initial prior model, observed data, and RJMCMC iterations**, perturbations as **moves, births and deaths** of Voronoi nuclei are proposed to explore the model space and converge to likely solutions in different dimensions. At the end, it is possible to extract a **smooth mean model** that aims to fit the true model as fine as possible.\n",
    "\n",
    "The **y** coordinate of model partitions is the parameter of interest in the Bayesian inversion. The model dimension **k** concerns the number of model partitions, each being defined by a Voronoi nucleus.\n",
    "$$ \n",
    "\\alpha = \\frac{1}{\\exp ^2}\n",
    "$$\n",
    "![birth.png](attachment:birth.png)"
   ]
  },
  {
   "cell_type": "code",
   "execution_count": null,
   "id": "athletic-wayne",
   "metadata": {},
   "outputs": [],
   "source": [
    "# Load modules\n",
    "from TransD_regression import *"
   ]
  },
  {
   "cell_type": "markdown",
   "id": "brief-behavior",
   "metadata": {
    "pycharm": {
     "name": "#%% md\n"
    }
   },
   "source": [
    "### True model building\n",
    "\n",
    "We first compute a **piecewise constant function** with nine partitions (thick piecewise constant line) according to the paper cited above. For simplicity, the dimensions and coordinates of the change points are the same as in the article, but it would be possible to take another configuration. The function is considered as the **true model**, and we are looking in this work for a mean to recover this model from random data."
   ]
  },
  {
   "cell_type": "code",
   "execution_count": null,
   "id": "individual-spirit",
   "metadata": {
    "pycharm": {
     "name": "#%%\n"
    }
   },
   "outputs": [],
   "source": [
    "# Field boundaries\n",
    "x_min = 0\n",
    "x_max = 10\n",
    "y_min = -60\n",
    "y_max = 60\n",
    "boundaries = np.array(([x_min, y_min], [x_max, y_max]))\n",
    "\n",
    "# Create observed data from the solution\n",
    "compute_true_model()\n",
    "plot_result(boundaries)"
   ]
  },
  {
   "cell_type": "markdown",
   "id": "rural-short",
   "metadata": {
    "pycharm": {
     "name": "#%% md\n"
    }
   },
   "source": [
    "### Observed data creation from the true model\n",
    "\n",
    "The observed data that will be used in the inversion process are some **dots** from the true model sampled with a given step and **contaminated with Gaussian random noise** with a given standard deviation in the y-direction. Here, we chose a step of 0.1 which means 100 points are sampled along the x-axis.\n",
    "\n",
    "The problem is to reconstruct the thick piecewise constant line from the dots"
   ]
  },
  {
   "cell_type": "code",
   "execution_count": null,
   "id": "acknowledged-argument",
   "metadata": {},
   "outputs": [],
   "source": [
    "x_dobs = []  # x coordinates of observed data\n",
    "y_dobs = []  # y coordinates of observed data\n",
    "sigma = 10.  # standard deviation parameter\n",
    "create_noisy_points(sigma, x_dobs, y_dobs)\n",
    "\n",
    "# Plot\n",
    "compute_true_model()\n",
    "plt.scatter(x_dobs, y_dobs, c='orange', label='observed data')\n",
    "plot_result(boundaries)"
   ]
  },
  {
   "cell_type": "markdown",
   "id": "organizational-flash",
   "metadata": {
    "pycharm": {
     "name": "#%% md\n"
    }
   },
   "source": [
    "### Initial model building\n",
    "\n",
    "A transdimensional sampling is based on bayesian Monte Carlo with a Markov chain. It involves the use of a starting model for the chain. The model parametrization is built from zeroth-order polynomials, i.e. simple constants within an unknown number of partitions.\n",
    "\n",
    "For yi (i = 1, . . . np ) the prior ranges between the limits of the observations, for xi (i = 1, . . . np ) the prior ranges between 0 and 10, and for np\n",
    "between 1 and 50.\n",
    "\n",
    "Since the noise statistics are i.i.d. Gaussian random variables then the likelihood\n",
    "is given by"
   ]
  },
  {
   "cell_type": "code",
   "execution_count": null,
   "id": "optical-arena",
   "metadata": {},
   "outputs": [],
   "source": [
    "# Build initial model\n",
    "npa_min = 1  # min number of partitions (> 0)\n",
    "npa_max = 50  # max number of partitions\n",
    "initial_model = Model()\n",
    "initial_model.build_initial_model(boundaries, y_dobs, npa_min, npa_max)\n",
    "print(\"initial model:\\nx =\", initial_model.x, \"\\ny =\", initial_model.y, \"\\nnumber of partitions =\",\n",
    "      initial_model.npa)\n",
    "initial_model.compute_phi(sigma, x_dobs, y_dobs)  # initial model misfit\n",
    "\n",
    "# Plot\n",
    "initial_model.draw_lines(boundaries, 'b')\n",
    "plt.scatter(x_dobs, y_dobs, c='orange', label='observed data')\n",
    "plt.scatter(initial_model.x, initial_model.y, c='blue', marker='s', label='initial model')\n",
    "plot_result(boundaries)"
   ]
  },
  {
   "cell_type": "code",
   "execution_count": null,
   "id": "further-conviction",
   "metadata": {},
   "outputs": [],
   "source": [
    "# Set RJMCMC variables\n",
    "current_model = initial_model\n",
    "burn_in = 10000  # length of the burn-in period\n",
    "n_samples = 50000  # total number of samples\n",
    "accepted_models = 0  # number of accepted models\n",
    "rejected_models = 0  # number of rejected models\n",
    "model_space = np.empty(n_samples - burn_in, dtype=Model)\n",
    "\n",
    "for sample in range(n_samples):  # RJMCMC iterations\n",
    "    # Build proposed model with a perturbation from current model\n",
    "    proposed_model = Model()\n",
    "    proposed_model.build_proposed_model(current_model, boundaries)\n",
    "\n",
    "    # Compute prior of the proposed model (i.e. check if npa, x and y within bounds)\n",
    "    prior = proposed_model.compute_prior(boundaries, y_dobs, npa_min, npa_max)\n",
    "    if prior == 0:  # if out of bounds reject the proposition\n",
    "        rejected_models += 1\n",
    "        if sample >= burn_in:  # store current model in the chain if burn-in period has passed\n",
    "            model_space[sample - burn_in] = current_model\n",
    "\n",
    "    else:\n",
    "        # Compute acceptance term and accept or reject it\n",
    "        proposed_model.compute_phi(sigma, x_dobs, y_dobs)  # proposed model misfit\n",
    "        u = np.random.random_sample()\n",
    "        log_u = math.log(u)\n",
    "        alpha = compute_acceptance(current_model, proposed_model, y_dobs)\n",
    "        if alpha >= log_u:  # if accepted\n",
    "            current_model = proposed_model\n",
    "            accepted_models += 1\n",
    "        else:  # if rejected\n",
    "            rejected_models += 1\n",
    "\n",
    "        # Collect models in the chain if burn-in period has passed\n",
    "        if sample >= burn_in:\n",
    "            model_space[sample - burn_in] = current_model\n",
    "\n",
    "print(\"\\naccepted models\", accepted_models)\n",
    "print(\"rejected models\", rejected_models)\n",
    "acceptance_rate = 100 * accepted_models / n_samples\n",
    "print(\"acceptance rate\", acceptance_rate)"
   ]
  },
  {
   "cell_type": "code",
   "execution_count": null,
   "id": "lesbian-melbourne",
   "metadata": {},
   "outputs": [],
   "source": [
    "# Compute model number of partitions and extract best fit model\n",
    "npa_number = compute_npa_numbers(model_space)\n",
    "max_likelihood_model = extract_best_fit_model(model_space, sigma, x_dobs)\n",
    "\n",
    "# Plot\n",
    "max_likelihood_model.draw_lines(boundaries, 'green')\n",
    "plt.scatter(x_dobs, y_dobs, c='orange', label='observed data')\n",
    "plt.scatter(max_likelihood_model.x, max_likelihood_model.y, c='green', marker='s', label='best fit model')\n",
    "plot_result(boundaries)"
   ]
  },
  {
   "cell_type": "code",
   "execution_count": null,
   "id": "celtic-piece",
   "metadata": {
    "scrolled": true
   },
   "outputs": [],
   "source": [
    "# Take the mean model from model space\n",
    "mean_model = Model()\n",
    "mean_model.extract_mean_model(model_space)\n",
    "\n",
    "# Plot\n",
    "compute_true_model()\n",
    "plt.scatter(mean_model.x, mean_model.y, c='purple', marker='o', label='mean model')\n",
    "plot_result(boundaries)"
   ]
  },
  {
   "cell_type": "code",
   "execution_count": null,
   "id": "detected-hawaii",
   "metadata": {
    "pycharm": {
     "name": "#%%\n"
    }
   },
   "outputs": [],
   "source": [
    "# Histograms of prior and posterior probabilities of model dimensions\n",
    "plt.hist(npa_number, range=(npa_min, npa_max), density=True, color='purple',\n",
    "         edgecolor='black', bins=(npa_max - npa_min), label='posterior PDF')\n",
    "plt.hist(npa_max, range=(0, npa_max), density=True, color='cyan', bins=1, alpha=0.5,\n",
    "         label='prior PDF')\n",
    "plt.vlines(x=9, ymin=0, ymax=0.3, linewidth=2, color='r', label='true model dimension')\n",
    "plt.xlabel('no. partitions')\n",
    "plt.ylabel('frequency in posterior ensemble')\n",
    "plt.legend(loc='upper right')\n",
    "plt.title('p(np|d)')\n",
    "plt.show()"
   ]
  }
 ],
 "metadata": {
  "kernelspec": {
   "display_name": "Python 3",
   "language": "python",
   "name": "python3"
  },
  "language_info": {
   "codemirror_mode": {
    "name": "ipython",
    "version": 3
   },
   "file_extension": ".py",
   "mimetype": "text/x-python",
   "name": "python",
   "nbconvert_exporter": "python",
   "pygments_lexer": "ipython3",
   "version": "3.9.7"
  }
 },
 "nbformat": 4,
 "nbformat_minor": 5
}
